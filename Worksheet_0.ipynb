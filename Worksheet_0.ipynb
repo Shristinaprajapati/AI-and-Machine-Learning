{
  "nbformat": 4,
  "nbformat_minor": 0,
  "metadata": {
    "colab": {
      "provenance": []
    },
    "kernelspec": {
      "name": "python3",
      "display_name": "Python 3"
    },
    "language_info": {
      "name": "python"
    }
  },
  "cells": [
    {
      "cell_type": "markdown",
      "source": [
        "# **4.TO - DO - Task**"
      ],
      "metadata": {
        "id": "EICccGsIyDSa"
      }
    },
    {
      "cell_type": "markdown",
      "source": [
        "Task - 1:\n",
        "Create a Python program that converts between different units of measurement.\n",
        "• The program should:\n",
        "1. Prompt the user to choose the type of conversion (e.g., length, weight, volume).\n",
        "2. Ask the user to input the value to be converted.\n",
        "3. Perform the conversion and display the result.\n",
        "4. Handle potential errors, such as invalid input or unsupported conversion types."
      ],
      "metadata": {
        "id": "En3_tfZnyTB3"
      }
    },
    {
      "cell_type": "code",
      "execution_count": null,
      "metadata": {
        "colab": {
          "base_uri": "https://localhost:8080/"
        },
        "id": "9hCDBKjlxFBe",
        "outputId": "a3d8e6ad-f4fd-40e5-bd1e-8e09290e64aa"
      },
      "outputs": [
        {
          "output_type": "stream",
          "name": "stdout",
          "text": [
            "Converter\n",
            "1. Length(m to ft or ft to m)\n",
            "2. Weight(kg to lbs or lbs to kg)\n",
            "3. Volume (L to ga or gal to L)\n",
            "Choose connversion (1-3):1\n",
            "Enter the value to convert:10\n",
            "Enter unit ('m' or 'ft'): m\n",
            "10.0 m is equal to 32.80 ft\n"
          ]
        }
      ],
      "source": [
        "def convert(value, unit):\n",
        "    conversions = {\n",
        "        \"m\": (value * 3.28, \"ft\"),\n",
        "        \"ft\": (value / 3.28, \"m\"),\n",
        "        \"kg\": (value * 2.204, \"lbs\"),\n",
        "        \"lbs\": (value / 2.204, \"kg\"),\n",
        "        \"L\": (value * 0.264, \"gal\"),\n",
        "        \"gal\": (value / 0.264, \"L\")\n",
        "    }\n",
        "    return conversions.get(unit, (None, None))\n",
        "\n",
        "def main():\n",
        "  print(\"Converter\")\n",
        "  print(\"1. Length(m to ft or ft to m)\")\n",
        "  print(\"2. Weight(kg to lbs or lbs to kg)\")\n",
        "  print(\"3. Volume (L to ga or gal to L)\")\n",
        "\n",
        "  try:\n",
        "    choice = int(input(\"Choose connversion (1-3):\"))\n",
        "    if choice not in [1, 2, 3]:\n",
        "          print(\"Invalid choice.\")\n",
        "          return\n",
        "    value = float (input(\"Enter the value to convert:\"))\n",
        "    if choice == 1:\n",
        "      unit = input(\"Enter unit ('m' or 'ft'): \")\n",
        "    elif choice ==2:\n",
        "      unit = input(\"Enter unit ('kg' or 'ft': ): \")\n",
        "    elif choice == 3:\n",
        "      unit = input(\"Enter unit ('L' or 'gal': ): \")\n",
        "    else:\n",
        "      print(\"Invlid number.\")\n",
        "      return\n",
        "\n",
        "    result , new_unit = convert(value, unit)\n",
        "\n",
        "    if result is None:\n",
        "        print(\"Invalid unit entered.\")\n",
        "    else:\n",
        "        print(f\"{value} {unit} is equal to {result:.2f} {new_unit}\")\n",
        "\n",
        "  except ValueError:\n",
        "        print(\"Error: Please enter a valid numeric value.\")\n",
        "\n",
        "if __name__ == \"__main__\":\n",
        "    main()\n"
      ]
    },
    {
      "cell_type": "markdown",
      "source": [
        "Task - 2:\n",
        "Create a Python program that performs various mathematical operations on a list of numbers.\n",
        "• The Program should:\n",
        "1. Prompt the user to choose an operation (e.g., find the sum, average, maximum, or minimum\n",
        "of the numbers).\n",
        "2. Ask the user to input a list of numbers (separated by spaces).\n",
        "3. Perform the selected operation and display the result.\n",
        "4. Handle potential errors, such as invalid input or empty lists."
      ],
      "metadata": {
        "id": "rzUaNaRd6tG-"
      }
    },
    {
      "cell_type": "code",
      "source": [
        "def addition(numbers):\n",
        "  return sum(numbers)\n",
        "\n",
        "def average(numbers):\n",
        "  if len(numbers) == 0:\n",
        "    return 0\n",
        "  return sum(numbers) / len(numbers)\n",
        "\n",
        "def maximum(numbers):\n",
        "  return max(numbers)\n",
        "\n",
        "def minimum(numbers):\n",
        "  return min(numbers)\n",
        "\n",
        "def main():\n",
        "  print(\"Choose the option: \")\n",
        "  print(\"1. Sum\")\n",
        "  print(\"2. Average\")\n",
        "  print(\"3. Maximum\")\n",
        "  print(\"4. Minimum\")\n",
        "\n",
        "  try:\n",
        "    choice = int(input(\"Enter the choice (1-4): \"))\n",
        "    if choice not in [1, 2, 3, 4]:\n",
        "      print(\"Invalid choice. Please enter a number between 1 and 4.\")\n",
        "      return\n",
        "\n",
        "    numbers = input(\"Enter a list of numbers separated by spaces: \").split()\n",
        "    if len(numbers) == 0:\n",
        "      print(\"Error: Please enter at least one number.\")\n",
        "      return\n",
        "\n",
        "    try:\n",
        "      number_list = [float(num) for num in numbers]\n",
        "    except ValueError:\n",
        "      print(\"Error: Please enter a valid list of numbers.\")\n",
        "      return\n",
        "\n",
        "    if choice == 1:\n",
        "      result = addition(number_list)\n",
        "      print(f\"The sum of the numbers is: {result}\")\n",
        "\n",
        "    elif choice == 2:\n",
        "      result = average(number_list)\n",
        "      print(f\"The average of the numbers is: {result}\")\n",
        "\n",
        "    elif choice == 3:\n",
        "      result = maximum(number_list)\n",
        "      print(f\"The maximum of the numbers is: {result}\")\n",
        "    elif choice == 4:\n",
        "      result = minimum(number_list)\n",
        "      print(f\"The minimum of the numbers is: {result}\")\n",
        "\n",
        "  except ValueError:\n",
        "    print(\"Error: Please enter a valid number choice.\")\n",
        "\n",
        "if __name__ == \"__main__\":\n",
        "  main()\n"
      ],
      "metadata": {
        "colab": {
          "base_uri": "https://localhost:8080/"
        },
        "id": "h5TDik_xDTws",
        "outputId": "f34ae7b5-265c-4e32-9b3e-39f9d188fcd4"
      },
      "execution_count": 49,
      "outputs": [
        {
          "output_type": "stream",
          "name": "stdout",
          "text": [
            "Choose the option: \n",
            "1. Sum\n",
            "2. Average\n",
            "3. Maximum\n",
            "4. Minimum\n",
            "Enter the choice (1-4): 1\n",
            "Enter a list of numbers separated by spaces: 1 2 3 4 5\n",
            "The sum of the numbers is: 15.0\n"
          ]
        }
      ]
    },
    {
      "cell_type": "markdown",
      "source": [
        "4.2 Exercise on List Manipulation:\n",
        "\n",
        "1. Extract Every Other Element:\n",
        "Write a Python function that extracts every other element from a list, starting from the first element.\n",
        "• Requirements:\n",
        "– Define a function extract every other(lst) that takes a list lst as input and returns a\n",
        "new list containing every other element from the original list.\n",
        "– Example: For the input [1, 2, 3, 4, 5, 6], the output should be [1, 3, 5].\n"
      ],
      "metadata": {
        "id": "U0E4k7v4EyKN"
      }
    },
    {
      "cell_type": "code",
      "source": [
        "def extract_every_other(lst):\n",
        "    \"\"\"Extract every other element from the list, starting from the first element.\"\"\"\n",
        "    return lst[::2]\n",
        "\n",
        "def main():\n",
        "    input_str = input(\"Enter a list of numbers separated by spaces: \")\n",
        "\n",
        "    input_list = [int(item) for item in input_str.split()]\n",
        "\n",
        "    output_list = extract_every_other(input_list)\n",
        "\n",
        "    print(f\"Output: {output_list}\")\n",
        "\n",
        "if __name__ == \"__main__\":\n",
        "    main()\n"
      ],
      "metadata": {
        "colab": {
          "base_uri": "https://localhost:8080/"
        },
        "id": "akhJpBfmEzdh",
        "outputId": "96d0cf31-a969-482b-c9a9-e7a0c71ed734"
      },
      "execution_count": null,
      "outputs": [
        {
          "output_type": "stream",
          "name": "stdout",
          "text": [
            "Enter a list of numbers separated by spaces: 1 2 3 4 6\n",
            "Output: [1, 3, 6]\n"
          ]
        }
      ]
    },
    {
      "cell_type": "markdown",
      "source": [
        "2. Slice a Sublist:\n",
        "\n",
        "Write a Python function that returns a sublist from a given list, starting from a specified index and\n",
        "ending at another specified index.\n",
        "• Requirements:\n",
        "– Define a function get sublist(lst, start, end) that takes a list lst, a starting index\n",
        "start, and an ending index end as input and returns the sublist from start to end (inclusive).\n",
        "– Example: For the input [1, 2, 3, 4, 5, 6] with start=2 and end=4, the output should\n",
        "be [3, 4, 5].\n"
      ],
      "metadata": {
        "id": "9fMTcQIcGRQE"
      }
    },
    {
      "cell_type": "code",
      "source": [
        "def get_sublist(lst, start, end):\n",
        "    return lst[start:end+1]\n",
        "\n",
        "def main():\n",
        "    input_str = input(\"Enter a list of numbers separated by spaces: \")\n",
        "    input_list = [int(item) for item in input_str.split()]\n",
        "\n",
        "    try:\n",
        "        start = int(input(\"Enter the starting index: \"))\n",
        "        end = int(input(\"Enter the ending index: \"))\n",
        "\n",
        "        \"\"\" Checking if the indices are within a valid range\"\"\"\n",
        "        if start < 0 or end < 0 or start >= len(input_list) or end >= len(input_list):\n",
        "            print(\"Error: Invalid indices.\")\n",
        "            return\n",
        "\n",
        "        \"\"\"Getting the sublist\"\"\"\n",
        "        sublist = get_sublist(input_list, start, end)\n",
        "        print(f\"Output: {sublist}\")\n",
        "\n",
        "    except ValueError:\n",
        "        print(\"Error: Please enter valid integers for indices.\")\n",
        "\n",
        "if __name__ == \"__main__\":\n",
        "    main()\n"
      ],
      "metadata": {
        "colab": {
          "base_uri": "https://localhost:8080/"
        },
        "id": "lJFAyjMCGSW6",
        "outputId": "ce0ba0a8-ffdb-46b9-bc87-368fec19339c"
      },
      "execution_count": null,
      "outputs": [
        {
          "output_type": "stream",
          "name": "stdout",
          "text": [
            "Enter a list of numbers separated by spaces: 1 2 3 4 5 6\n",
            "Enter the starting index: 1\n",
            "Enter the ending index: 3\n",
            "Output: [2, 3, 4]\n"
          ]
        }
      ]
    },
    {
      "cell_type": "markdown",
      "source": [
        "3. Reverse a List Using Slicing:\n",
        "\n",
        "Write a Python function that reverses a list using slicing.\n",
        "• Requirements:\n",
        "– Define a function reverse list(lst) that takes a list lst and returns a reversed list using\n",
        "slicing.\n",
        "– Example: For the input [1, 2, 3, 4, 5], the output should be [5, 4, 3, 2, 1]."
      ],
      "metadata": {
        "id": "1U6AIjAsJxGi"
      }
    },
    {
      "cell_type": "code",
      "source": [
        "def reverse_list(lst):\n",
        "    \"\"\"Return a reversed list using slicing.\"\"\"\n",
        "    return lst[::-1]\n",
        "\n",
        "input_list = [1, 2, 3, 4, 5]\n",
        "reversed_list = reverse_list(input_list)\n",
        "print(f\"Reversed list: {reversed_list}\")\n"
      ],
      "metadata": {
        "colab": {
          "base_uri": "https://localhost:8080/"
        },
        "id": "8jzwowL-JwCp",
        "outputId": "baf2ec16-e2a4-4a4b-acb1-788667c0139c"
      },
      "execution_count": null,
      "outputs": [
        {
          "output_type": "stream",
          "name": "stdout",
          "text": [
            "Reversed list: [5, 4, 3, 2, 1]\n"
          ]
        }
      ]
    },
    {
      "cell_type": "markdown",
      "source": [
        "4. Remove the First and Last Elements:\n",
        "\n",
        "Write a Python function that removes the first and last elements of a list and returns the resulting\n",
        "sublist.\n",
        "• Requirements:\n",
        "– Define a function remove first last(lst) that takes a list lst and returns a sublist without\n",
        "the first and last elements using slicing.\n",
        "– Example: For the input [1, 2, 3, 4, 5], the output should be [2, 3, 4]."
      ],
      "metadata": {
        "id": "yBwJhofeJ-vw"
      }
    },
    {
      "cell_type": "code",
      "source": [
        "def remove(lst):\n",
        "  return lst[1:-1]\n",
        "\n",
        "input_list = [2,4,6,8,10]\n",
        "output_list = remove(input_list)\n",
        "print(f\"Output: {output_list}\")"
      ],
      "metadata": {
        "colab": {
          "base_uri": "https://localhost:8080/"
        },
        "id": "CJMN-dWtKA3L",
        "outputId": "9cabb0b8-2185-4cc9-88be-ffe9adca498f"
      },
      "execution_count": null,
      "outputs": [
        {
          "output_type": "stream",
          "name": "stdout",
          "text": [
            "Output: [4, 6, 8]\n"
          ]
        }
      ]
    },
    {
      "cell_type": "markdown",
      "source": [
        "5. Get the First n Elements:\n",
        "\n",
        "Write a Python function that extracts the first n elements from a list.\n",
        "• Requirements:\n",
        "– Define a function get first n(lst, n) that takes a list lst and an integer n as input and\n",
        "returns the first n elements of the list using slicing.\n",
        "– Example: For the input [1, 2, 3, 4, 5] with n=3, the output should be [1, 2, 3].\n"
      ],
      "metadata": {
        "id": "9EplsT-4Kiux"
      }
    },
    {
      "cell_type": "code",
      "source": [
        "def get_first_n(lst, n):\n",
        "  return lst[:n]\n",
        "\n",
        "input_list = [1, 2, 3, 4, 5]\n",
        "n = 3\n",
        "output_list = get_first_n(input_list, n)\n",
        "print(f\"Output: {output_list}\")\n"
      ],
      "metadata": {
        "colab": {
          "base_uri": "https://localhost:8080/"
        },
        "id": "snDBKHKuKjii",
        "outputId": "d540a64f-0d55-4338-b7cf-cb7c40e0a48f"
      },
      "execution_count": null,
      "outputs": [
        {
          "output_type": "stream",
          "name": "stdout",
          "text": [
            "Output: [1, 2, 3]\n"
          ]
        }
      ]
    },
    {
      "cell_type": "markdown",
      "source": [
        "6. Extract Elements from the End:\n",
        "\n",
        "Write a Python function that extracts the last n elements of a list using slicing. • Requirements:\n",
        "– Define a function get last n(lst, n) that takes a list lst and an integer n as input and returns the last n elements of the list.\n",
        "– Example: For the input [1, 2, 3, 4, 5] with n=2, the output should be [4, 5].\n"
      ],
      "metadata": {
        "id": "0UjYauXyMAB_"
      }
    },
    {
      "cell_type": "code",
      "source": [
        "def get_last_n(lst, n):\n",
        "    \"\"\"Return the last n elements of the list using slicing.\"\"\"\n",
        "    return lst[-n:]\n",
        "\n",
        "def main():\n",
        "    input_str = input(\"Enter a list of numbers separated by spaces: \")\n",
        "    input_list = [int(item) for item in input_str.split()]\n",
        "\n",
        "    try:\n",
        "        n = int(input(\"Enter n: \"))\n",
        "\n",
        "        if n > len(input_list) or n <= 0:\n",
        "            print(\"Error: n must be greater than 0 and less than or equal to the length of the list.\")\n",
        "            return\n",
        "\n",
        "        resulting_sublist = get_last_n(input_list, n)\n",
        "        print(f\"The last {n} elements are: {resulting_sublist}\")\n",
        "\n",
        "    except ValueError:\n",
        "        print(\"Error: Please enter valid integers.\")\n",
        "\n",
        "if __name__ == \"__main__\":\n",
        "    main()\n"
      ],
      "metadata": {
        "colab": {
          "base_uri": "https://localhost:8080/"
        },
        "id": "46WbB5QgMBn8",
        "outputId": "2d22e858-45a7-4127-becf-ff152380ec6e"
      },
      "execution_count": null,
      "outputs": [
        {
          "output_type": "stream",
          "name": "stdout",
          "text": [
            "Enter a list of numbers separated by spaces: 1 2 3 4 5 6\n",
            "Enter n: 2\n",
            "The last 2 elements are: [5, 6]\n"
          ]
        }
      ]
    },
    {
      "cell_type": "markdown",
      "source": [
        "7. Extract Elements in Reverse Order:\n",
        "\n",
        "Write a Python function that extracts a list of elements in reverse order starting from the second-to-last element and skipping one element in between.\n",
        "• Requirements:\n",
        "– Define a function reverse skip(lst) that takes a list lst and returns a new list containing every second element starting from the second-to-last, moving backward.\n",
        "– Example: For the input [1, 2, 3, 4, 5, 6], the output should be [5, 3, 1]. 20\n"
      ],
      "metadata": {
        "id": "lXMYQE3qOn24"
      }
    },
    {
      "cell_type": "code",
      "source": [
        "def reverse_skip(lst):\n",
        "  return lst[-2::-2]\n",
        "input_list = [1,2,3,4,5,6,7,8]\n",
        "result = reverse_skip(input_list)\n",
        "print(f\"Elements in reverse order skipping the digits: {result}\")"
      ],
      "metadata": {
        "colab": {
          "base_uri": "https://localhost:8080/"
        },
        "id": "iYUdw4OGOo1B",
        "outputId": "be6dfb7c-5a48-47a5-e718-978c3ff25121"
      },
      "execution_count": null,
      "outputs": [
        {
          "output_type": "stream",
          "name": "stdout",
          "text": [
            "Elements in reverse order skipping the digits: [7, 5, 3, 1]\n"
          ]
        }
      ]
    },
    {
      "cell_type": "markdown",
      "source": [
        "4.3 Exercise on Nested List:\n",
        "1. Flatten a Nested List:\n",
        "\n",
        "Write a Python function that takes a nested list and flattens it into a single list, where all the elements are in a single dimension.\n",
        "• Requirements:\n",
        "– Define a function flatten(lst) that takes a nested list lst and returns a flattened version of the list.\n",
        "– Example: For the input [[1, 2], [3, 4], [5]], the output should be [1, 2, 3, 4, 5].\n"
      ],
      "metadata": {
        "id": "2CC9j8jiRDNK"
      }
    },
    {
      "cell_type": "code",
      "source": [
        "def flatten(lst):\n",
        "    \"\"\"Flatten a nested list into a single list.\"\"\"\n",
        "    flat_list = []\n",
        "    for sublist in lst:\n",
        "        if isinstance(sublist, list):\n",
        "            flat_list.extend(flatten(sublist))  # Recursive call for the nested lists\n",
        "        else:\n",
        "            flat_list.append(sublist)\n",
        "    return flat_list\n",
        "\n",
        "# Example usage\n",
        "input_list = [[1, 2], [3, 4], [5]]\n",
        "flattened_list = flatten(input_list)\n",
        "print(f\"Flattened list: {flattened_list}\")\n"
      ],
      "metadata": {
        "colab": {
          "base_uri": "https://localhost:8080/"
        },
        "id": "pu7sBf3JREOS",
        "outputId": "2ca99316-587d-4704-b700-529d32cd0515"
      },
      "execution_count": null,
      "outputs": [
        {
          "output_type": "stream",
          "name": "stdout",
          "text": [
            "Flattened list: [1, 2, 3, 4, 5]\n"
          ]
        }
      ]
    },
    {
      "cell_type": "markdown",
      "source": [
        "2. Accessing Nested List Elements:\n",
        "\n",
        "Write a Python function that extracts a specific element from a nested list given its indices. • Requirements:\n",
        "– Define a function access nested element(lst, indices) that takes a nested list lst and a list of indices indices, and returns the element at that position.\n",
        "– Example: For the input lst = [[1, 2, 3], [4, 5, 6], [7, 8, 9]] with indices = [1, 2], the output should be 6.\n",
        "\n"
      ],
      "metadata": {
        "id": "i81IjgLMSncZ"
      }
    },
    {
      "cell_type": "code",
      "source": [
        "def access_nested_element(lst, indices):\n",
        "  for index in indices:\n",
        "    lst = lst[index] #updating lst to tthe sublist at the current index\n",
        "  return lst  #Return the element at the final index\n",
        "\n",
        "nested_list = [[1, 2, 3], [4, 5, 6], [7, 8, 9]]\n",
        "indices = [1, 2]\n",
        "element = access_nested_element(nested_list, indices)\n",
        "print(f\"Accessed element: {element}\")"
      ],
      "metadata": {
        "colab": {
          "base_uri": "https://localhost:8080/"
        },
        "id": "1uV1MGwjSrSs",
        "outputId": "507221fe-bfc9-4cd7-e787-5a682e2c63e3"
      },
      "execution_count": null,
      "outputs": [
        {
          "output_type": "stream",
          "name": "stdout",
          "text": [
            "Accessed element: 6\n"
          ]
        }
      ]
    },
    {
      "cell_type": "markdown",
      "source": [
        "3. Sum of All Elements in a Nested List:\n",
        "\n",
        "Write a Python function that calculates the sum of all the numbers in a nested list (regardless of depth). • Requirements:\n",
        "– Define a function sum nested(lst) that takes a nested list lst and returns the sum of all the elements.\n",
        "– Example: For the input [[1, 2], [3, [4, 5]], 6], the output should be 21.\n"
      ],
      "metadata": {
        "id": "Zm5RwNd-T1ab"
      }
    },
    {
      "cell_type": "code",
      "source": [
        "def sum_nested(lst):\n",
        "  total =0\n",
        "  for item in lst:\n",
        "    if isinstance(item, list): # If the item is a list, recursively sum its elements\n",
        "      total += sum_nested(item)\n",
        "    else:\n",
        "      total += item # If it's a number, add it to the total\n",
        "  return total\n",
        "nested_list = [[1, 2], [3, [4, 5]], 6]\n",
        "total_sum = sum_nested(nested_list)\n",
        "print(f\"Sum of all elements: {total_sum}\")\n"
      ],
      "metadata": {
        "colab": {
          "base_uri": "https://localhost:8080/"
        },
        "id": "zIrzrKZXT2yy",
        "outputId": "9d42d264-cee8-4f66-f57f-0df807dbd0b4"
      },
      "execution_count": null,
      "outputs": [
        {
          "output_type": "stream",
          "name": "stdout",
          "text": [
            "Sum of all elements: 21\n"
          ]
        }
      ]
    },
    {
      "cell_type": "markdown",
      "source": [
        "4. Remove Specific Element from a Nested List:\n",
        "\n",
        "Write a Python function that removes all occurrences of a specific element from a nested list. • Requirements:\n",
        "– Define a function remove element(lst, elem) that removes elem from lst and returns the modified list.\n",
        "– Example: For the input lst = [[1, 2], [3, 2], [4, 5]] and elem = 2, the output should be [[1], [3], [4, 5]].\n"
      ],
      "metadata": {
        "id": "8M1aazjwWpyw"
      }
    },
    {
      "cell_type": "code",
      "source": [
        "def remove_element(lst, elem):\n",
        "  result = []\n",
        "  for item in lst:\n",
        "    if isinstance(item, list):\n",
        "      result.append(remove_element(item,elem))\n",
        "    else:\n",
        "      if item != elem:\n",
        "        result.append(item)\n",
        "  return result\n",
        "\n",
        "nested_list = [[1, 2], [3, 2], [4, 5]]\n",
        "element_to_remove = 3\n",
        "modified_list = remove_element(nested_list, element_to_remove)\n",
        "print(f\"Modified list: {modified_list}\")"
      ],
      "metadata": {
        "colab": {
          "base_uri": "https://localhost:8080/"
        },
        "id": "wGaCEkj4WvG_",
        "outputId": "3e891cbc-06ab-4b67-e6a4-810f1513d21f"
      },
      "execution_count": null,
      "outputs": [
        {
          "output_type": "stream",
          "name": "stdout",
          "text": [
            "Modified list: [[1, 2], [2], [4, 5]]\n"
          ]
        }
      ]
    },
    {
      "cell_type": "markdown",
      "source": [
        "5. Find the Maximum Element in a Nested List:\n",
        "\n",
        "Write a Python function that finds the maximum element in a nested list (regardless of depth). • Requirements:\n",
        "– Define a function find max(lst) that takes a nested list lst and returns the maximum element.\n",
        "– Example: For the input [[1, 2], [3, [4, 5]], 6], the output should be 6. 21\n"
      ],
      "metadata": {
        "id": "rWsV5L2YYKIy"
      }
    },
    {
      "cell_type": "code",
      "source": [
        "def find_max(lst):\n",
        "  max_element= float('-inf') #starting with the smallest possible value\n",
        "\n",
        "  for item in lst:\n",
        "    if isinstance(item, list):  # If the item is a sublist, recurse into it\n",
        "      max_element = max(max_element, find_max(item))\n",
        "    else:\n",
        "      max_element = max(max_element, item)\n",
        "  return max_element\n",
        "\n",
        "nested_list = [[1, 2], [3, [4, 5]], 6]\n",
        "maximum_value = find_max(nested_list)\n",
        "print(f\"Maximum value in the nested list: {maximum_value}\")"
      ],
      "metadata": {
        "colab": {
          "base_uri": "https://localhost:8080/"
        },
        "id": "wGn6n2JjYOzY",
        "outputId": "342ccd68-6153-4069-93d2-843d717f1e53"
      },
      "execution_count": null,
      "outputs": [
        {
          "output_type": "stream",
          "name": "stdout",
          "text": [
            "Maximum value in the nested list: 6\n"
          ]
        }
      ]
    },
    {
      "cell_type": "markdown",
      "source": [
        "6. Count Occurrences of an Element in a Nested List:\n",
        "\n",
        "Write a Python function that counts how many times a specific element appears in a nested list. • Requirements:\n",
        "– Define a function count occurrences(lst, elem) that counts the occurrences of elem in the nested list lst.\n",
        "– Example: For the input lst = [[1, 2], [2, 3], [2, 4]] and elem = 2, the output should be 3.\n"
      ],
      "metadata": {
        "id": "JgLHj-JCb0CN"
      }
    },
    {
      "cell_type": "code",
      "source": [
        "def count_occurence(lst, elem):\n",
        "  count=0\n",
        "\n",
        "  for item in lst:\n",
        "    if isinstance(item, list): # if the item is the sub list , recurse into it\n",
        "      count += count_occurence(item, elem)\n",
        "    else:\n",
        "      if item ==elem:\n",
        "        count+= 1\n",
        "  return count\n",
        "\n",
        "nested_list = [[1, 2], [2, 3], [2, 4]]\n",
        "element = 2\n",
        "occurrences = count_occurence(nested_list, element)\n",
        "print(f\"Occurrences of {element} in the nested list: {occurrences}\")"
      ],
      "metadata": {
        "colab": {
          "base_uri": "https://localhost:8080/"
        },
        "id": "AntkzHCgZ2tM",
        "outputId": "7d26bcf8-ebfc-4813-e5aa-0c96f60c5b7e"
      },
      "execution_count": null,
      "outputs": [
        {
          "output_type": "stream",
          "name": "stdout",
          "text": [
            "Occurrences of 2 in the nested list: 3\n"
          ]
        }
      ]
    },
    {
      "cell_type": "markdown",
      "source": [
        "7. Flatten a List of Lists of Lists:\n",
        "\n",
        "Write a Python function that flattens a list of lists of lists into a single list, regardless of the depth. • Requirements:\n",
        "– Define a function deep flatten(lst) that takes a deeply nested list lst and returns a single flattened list.\n",
        "– Example: For the input [[[1, 2], [3, 4]], [[5, 6], [7, 8]]], the output should be [1, 2, 3, 4, 5, 6, 7, 8].\n"
      ],
      "metadata": {
        "id": "didz7JqBct-A"
      }
    },
    {
      "cell_type": "code",
      "source": [
        "def deep_faltten(lst):\n",
        "  flattened = []\n",
        "\n",
        "  for item in lst:\n",
        "    if isinstance(item, list):\n",
        "      flattened.extend(deep_faltten(item))\n",
        "    else:\n",
        "      flattened.append(item)\n",
        "  return flattened\n",
        "\n",
        "nested_list = [[[1, 2], [3, 4]], [[5, 6], [7, 8]]]\n",
        "flattened_list = deep_faltten(nested_list)\n",
        "print(\"Flattened list:\", flattened_list)"
      ],
      "metadata": {
        "colab": {
          "base_uri": "https://localhost:8080/"
        },
        "id": "NFvzrPa5cvDu",
        "outputId": "15b8d678-6b49-4fca-b331-fdcad859b242"
      },
      "execution_count": null,
      "outputs": [
        {
          "output_type": "stream",
          "name": "stdout",
          "text": [
            "Flattened list: [1, 2, 3, 4, 5, 6, 7, 8]\n"
          ]
        }
      ]
    },
    {
      "cell_type": "markdown",
      "source": [
        " Nested List Average:\n",
        "\n",
        "Write a Python function that calculates the average of all elements in a nested list. • Requirements:\n",
        "– Define a function average nested(lst) that takes a nested list lst and returns the average of all the elements.\n",
        "– Example: For the input [[1, 2], [3, 4], [5, 6]], the output should be 3.5. 22\n"
      ],
      "metadata": {
        "id": "2LHCIu7jcupu"
      }
    },
    {
      "cell_type": "code",
      "source": [
        "def deep_faltten(lst):\n",
        "  flattened = []\n",
        "\n",
        "  for item in lst:\n",
        "    if isinstance(item, list):\n",
        "      flattened.extend(deep_faltten(item))\n",
        "    else:\n",
        "      flattened.append(item)\n",
        "  return flattened\n",
        "\n",
        "\n",
        "def average_nested(lst):\n",
        "  flattened_list = deep_faltten(lst)\n",
        "  total = sum(flattened_list)\n",
        "  return total / len(flattened_list)\n",
        "\n",
        "nested_list = [[[1, 2], [3, 4]], [[5, 6], [7, 8]]]\n",
        "average = average_nested(nested_list)\n",
        "print(f\"Average: {average}\")"
      ],
      "metadata": {
        "id": "JJ6pYa2wfxh6",
        "colab": {
          "base_uri": "https://localhost:8080/"
        },
        "outputId": "5623f104-bb34-47e1-f84a-3b4494b70293"
      },
      "execution_count": 1,
      "outputs": [
        {
          "output_type": "stream",
          "name": "stdout",
          "text": [
            "Average: 4.5\n"
          ]
        }
      ]
    },
    {
      "cell_type": "markdown",
      "source": [
        "# 10 To - Do - NumPy\n",
        "Please complete all the problems listed below:\n"
      ],
      "metadata": {
        "id": "Pn55MY1ZelO_"
      }
    },
    {
      "cell_type": "markdown",
      "source": [
        "10.1 Basic Vector and Matrix Operation with Numpy.\n",
        "Problem - 1: Array Creation:\n",
        "Complete the following Tasks:\n",
        "1. Initialize an empty array with size 2X2.\n",
        "2. Initialize an all one array with size 4X2.\n",
        "3. Return a new array of given shape and type, filled with fill value.{Hint: np.full} 4. Return a new array of zeros with same shape and type as a given array.{Hint: np.zeros like} 5. Return a new array of ones with same shape and type as a given array.{Hint: np.ones like} 6. For an existing list new_list = [1,2,3,4] convert to an numpy array.{Hint: np.array()}\n"
      ],
      "metadata": {
        "id": "EPUXc0iVh6Ka"
      }
    },
    {
      "cell_type": "code",
      "source": [
        "import numpy as np"
      ],
      "metadata": {
        "id": "UJcE0S5iiCVI"
      },
      "execution_count": 2,
      "outputs": []
    },
    {
      "cell_type": "code",
      "source": [
        "# 1. Initialize an empty array with size 2X2\n",
        "empty_array = np.empty((2, 2))\n",
        "print(\"Empty Array (2x2):\")\n",
        "print(empty_array)"
      ],
      "metadata": {
        "colab": {
          "base_uri": "https://localhost:8080/"
        },
        "id": "4Ke3oXNaiJG3",
        "outputId": "af3f5379-4247-43e2-ab5a-63237c940094"
      },
      "execution_count": 3,
      "outputs": [
        {
          "output_type": "stream",
          "name": "stdout",
          "text": [
            "Empty Array (2x2):\n",
            "[[2.6340442e-316 0.0000000e+000]\n",
            " [1.4821969e-323            nan]]\n"
          ]
        }
      ]
    },
    {
      "cell_type": "code",
      "source": [
        "# 2. Initialize an all-one array with size 4X2\n",
        "ones_array = np.ones((4,2))\n",
        "print(\"All Ones Array (4*2)\")\n",
        "print(ones_array)"
      ],
      "metadata": {
        "colab": {
          "base_uri": "https://localhost:8080/"
        },
        "id": "2h-E9UjliN71",
        "outputId": "1493f1ba-f802-49a5-e23c-ffc7902ccaf2"
      },
      "execution_count": 4,
      "outputs": [
        {
          "output_type": "stream",
          "name": "stdout",
          "text": [
            "All Ones Array (4*2)\n",
            "[[1. 1.]\n",
            " [1. 1.]\n",
            " [1. 1.]\n",
            " [1. 1.]]\n"
          ]
        }
      ]
    },
    {
      "cell_type": "code",
      "source": [
        "# 3. Return a new array of given shape and type, filled with a fill value\n",
        "new_array = np.full((3, 3), 7)\n",
        "print(\"New Array (3x3):\")\n",
        "print(new_array)"
      ],
      "metadata": {
        "colab": {
          "base_uri": "https://localhost:8080/"
        },
        "id": "DO-37J5fieQD",
        "outputId": "7eeedf30-d34e-4a9b-cf0b-7297fe78fd21"
      },
      "execution_count": 5,
      "outputs": [
        {
          "output_type": "stream",
          "name": "stdout",
          "text": [
            "New Array (3x3):\n",
            "[[7 7 7]\n",
            " [7 7 7]\n",
            " [7 7 7]]\n"
          ]
        }
      ]
    },
    {
      "cell_type": "code",
      "source": [
        "# 4. Return a new array of zeros with the same shape and type as a given array\n",
        "existing_array = np.array([[1, 2, 3], [4, 5, 6]])\n",
        "zeros_array = np.zeros_like(existing_array)\n",
        "print(\"Zeros Array:\")\n",
        "print(zeros_array)"
      ],
      "metadata": {
        "colab": {
          "base_uri": "https://localhost:8080/"
        },
        "id": "1xZtUZ5JirX9",
        "outputId": "653b356a-2371-4b64-c843-fd82a4fe00c3"
      },
      "execution_count": 6,
      "outputs": [
        {
          "output_type": "stream",
          "name": "stdout",
          "text": [
            "Zeros Array:\n",
            "[[0 0 0]\n",
            " [0 0 0]]\n"
          ]
        }
      ]
    },
    {
      "cell_type": "code",
      "source": [
        "#Return a new array of ones with the same shape and type as a given array\n",
        "existing_array = np.array([[1, 2, 3], [4, 5, 6]])\n",
        "ones_array = np.ones_like(existing_array)\n",
        "print(\"Ones Array:\")\n",
        "print(ones_array)"
      ],
      "metadata": {
        "colab": {
          "base_uri": "https://localhost:8080/"
        },
        "id": "YDDJny85i5Ul",
        "outputId": "7f506e1f-02e0-4665-99ec-84553470605f"
      },
      "execution_count": 7,
      "outputs": [
        {
          "output_type": "stream",
          "name": "stdout",
          "text": [
            "Ones Array:\n",
            "[[1 1 1]\n",
            " [1 1 1]]\n"
          ]
        }
      ]
    },
    {
      "cell_type": "code",
      "source": [
        "# 6. Convert an existing list to a NumPy array\n",
        "new_list = [1, 2, 3, 4]\n",
        "numpy_array = np.array(new_list)\n",
        "print(\"NumPy Array:\")\n",
        "print(numpy_array)"
      ],
      "metadata": {
        "colab": {
          "base_uri": "https://localhost:8080/"
        },
        "id": "gupdrU0xjIBn",
        "outputId": "9d5e92a2-6658-4708-cdd0-c03aafdf91ad"
      },
      "execution_count": 8,
      "outputs": [
        {
          "output_type": "stream",
          "name": "stdout",
          "text": [
            "NumPy Array:\n",
            "[1 2 3 4]\n"
          ]
        }
      ]
    },
    {
      "cell_type": "markdown",
      "source": [
        "Problem - 2:\n",
        "\n",
        "Array Manipulation: Numerical Ranges and Array indexing: Complete the following tasks:\n",
        "1. Create an array with values ranging from 10 to 49. {Hint:np.arrange()}.\n",
        "2. Create a 3X3 matrix with values ranging from 0 to 8.\n",
        "{Hint:look for np.reshape()}\n",
        "3. Create a 3X3 identity matrix.{Hint:np.eye()}\n",
        "4. Create a random array of size 30 and find the mean of the array.\n",
        "{Hint:check for np.random.random() and array.mean() function}\n",
        "5. Create a 10X10 array with random values and find the minimum and maximum values. 6. Create a zero array of size 10 and replace 5th element with 1.\n",
        "7. Reverse an array arr = [1,2,0,0,4,0].\n",
        "8. Create a 2d array with 1 on border and 0 inside.\n",
        "9. Create a 8X8 matrix and fill it with a checkerboard pattern."
      ],
      "metadata": {
        "id": "P5JONkXwid3Q"
      }
    },
    {
      "cell_type": "code",
      "source": [
        "# 1. Create an array with values ranging from 10 to 49\n",
        "array = np.arange(10, 50)\n",
        "print(\"Array 10-49: \")\n",
        "print(array)"
      ],
      "metadata": {
        "colab": {
          "base_uri": "https://localhost:8080/"
        },
        "id": "pq1SlrkSjT03",
        "outputId": "45468a41-2b43-45f2-a1f8-e2a4b7084531"
      },
      "execution_count": 9,
      "outputs": [
        {
          "output_type": "stream",
          "name": "stdout",
          "text": [
            "Array 10-49: \n",
            "[10 11 12 13 14 15 16 17 18 19 20 21 22 23 24 25 26 27 28 29 30 31 32 33\n",
            " 34 35 36 37 38 39 40 41 42 43 44 45 46 47 48 49]\n"
          ]
        }
      ]
    },
    {
      "cell_type": "code",
      "source": [
        "# 2. Create a 3X3 matrix with values ranging from 0 to 8\n",
        "matrix = np.arange(9).reshape(3, 3)\n",
        "print(\"3x3 Matrix:\")\n",
        "print(matrix)"
      ],
      "metadata": {
        "colab": {
          "base_uri": "https://localhost:8080/"
        },
        "id": "C583JDgulGd4",
        "outputId": "297d2f47-761e-4fa3-a8c6-825448ea21f8"
      },
      "execution_count": 10,
      "outputs": [
        {
          "output_type": "stream",
          "name": "stdout",
          "text": [
            "3x3 Matrix:\n",
            "[[0 1 2]\n",
            " [3 4 5]\n",
            " [6 7 8]]\n"
          ]
        }
      ]
    },
    {
      "cell_type": "code",
      "source": [
        "# 3. Create a 3X3 identity matrix\n",
        "identity_matrix = np.eye(3)\n",
        "print(\"3x3 Identity Matrix:\")\n",
        "print(identity_matrix)"
      ],
      "metadata": {
        "colab": {
          "base_uri": "https://localhost:8080/"
        },
        "id": "_zWpXiQ9lMYP",
        "outputId": "025dee78-8640-4d67-e57a-76b6a6709232"
      },
      "execution_count": 12,
      "outputs": [
        {
          "output_type": "stream",
          "name": "stdout",
          "text": [
            "3x3 Identity Matrix:\n",
            "[[1. 0. 0.]\n",
            " [0. 1. 0.]\n",
            " [0. 0. 1.]]\n"
          ]
        }
      ]
    },
    {
      "cell_type": "code",
      "source": [
        "# 4. Create a random array of size 30 and find the mean of the array\n",
        "random_array = np.random.random(30)\n",
        "mean_value = random_array.mean()\n",
        "print(\"Random Array:\")\n",
        "print(random_array)\n",
        "print(\"Mean of the Array:\", mean_value)"
      ],
      "metadata": {
        "colab": {
          "base_uri": "https://localhost:8080/"
        },
        "id": "2AOds1JplTbY",
        "outputId": "d20ab21a-90d6-4e95-a5e3-c179385223b9"
      },
      "execution_count": 15,
      "outputs": [
        {
          "output_type": "stream",
          "name": "stdout",
          "text": [
            "Random Array:\n",
            "[0.43635282 0.34580164 0.32971694 0.69951912 0.20915341 0.48636428\n",
            " 0.3803045  0.0570571  0.59756148 0.77840961 0.68250823 0.16921892\n",
            " 0.35301278 0.9564082  0.12582779 0.68752164 0.37468311 0.88356628\n",
            " 0.77934534 0.54582645 0.06430842 0.94453664 0.48538381 0.26885698\n",
            " 0.37319206 0.21666489 0.09380129 0.96279659 0.51039458 0.24669389]\n",
            "Mean of the Array: 0.4681596263015771\n"
          ]
        }
      ]
    },
    {
      "cell_type": "code",
      "source": [
        "# 5. Create a 10X10 array with random values and find the minimum and maximum values\n",
        "random_array = np.random.random((10, 10))\n",
        "min_value = random_array.min()\n",
        "max_value = random_array.max()\n",
        "print(random_array)\n",
        "print(f\"Minimum value: {min_value}, Maximum value: {max_value}\")"
      ],
      "metadata": {
        "colab": {
          "base_uri": "https://localhost:8080/"
        },
        "id": "uKEBqy-elZp7",
        "outputId": "1fa4bd3b-f66c-4c20-a36f-38f60078a3b3"
      },
      "execution_count": 17,
      "outputs": [
        {
          "output_type": "stream",
          "name": "stdout",
          "text": [
            "[[0.44605159 0.76447123 0.24121983 0.10001365 0.24787632 0.82545615\n",
            "  0.73564086 0.72331577 0.52077353 0.09400507]\n",
            " [0.00674739 0.11735767 0.09811625 0.60689889 0.6787846  0.35833992\n",
            "  0.5417146  0.05306044 0.28058129 0.32821865]\n",
            " [0.63318242 0.74493096 0.10095072 0.04494014 0.98324605 0.98165051\n",
            "  0.33304594 0.50872109 0.82331352 0.46096187]\n",
            " [0.82707965 0.35422304 0.14941146 0.39212986 0.79902203 0.44416738\n",
            "  0.15166066 0.78137865 0.81813592 0.63141381]\n",
            " [0.07031654 0.80010165 0.90280989 0.60559374 0.59679439 0.80953644\n",
            "  0.50819653 0.05603645 0.16576056 0.64891664]\n",
            " [0.738537   0.48341653 0.65945768 0.09520935 0.95941917 0.87496066\n",
            "  0.12116978 0.71407964 0.21563538 0.23044006]\n",
            " [0.59022494 0.2200284  0.62767363 0.87310186 0.28475516 0.06323508\n",
            "  0.73344589 0.97417995 0.62120898 0.62588575]\n",
            " [0.22594481 0.27406598 0.15469438 0.62124906 0.91535908 0.76660187\n",
            "  0.40541942 0.70784581 0.14152843 0.00946841]\n",
            " [0.96090742 0.94116709 0.57803403 0.70247879 0.37469996 0.47941095\n",
            "  0.88532811 0.38060062 0.49272062 0.4346517 ]\n",
            " [0.69069892 0.5344245  0.62897994 0.29276639 0.65803762 0.33649767\n",
            "  0.52997013 0.13089129 0.61565784 0.48940728]]\n",
            "Minimum value: 0.006747390507092055, Maximum value: 0.9832460504504686\n"
          ]
        }
      ]
    },
    {
      "cell_type": "code",
      "source": [
        "# 6. Create a zero array of size 10 and replace 5th element with 1\n",
        "zero_array = np.zeros(10)\n",
        "zero_array[4] = 1\n",
        "print(zero_array)"
      ],
      "metadata": {
        "colab": {
          "base_uri": "https://localhost:8080/"
        },
        "id": "dhg_VU5tnWMv",
        "outputId": "ae17447b-f8c4-4381-bcdd-9919a4c3b2d7"
      },
      "execution_count": 18,
      "outputs": [
        {
          "output_type": "stream",
          "name": "stdout",
          "text": [
            "[0. 0. 0. 0. 1. 0. 0. 0. 0. 0.]\n"
          ]
        }
      ]
    },
    {
      "cell_type": "code",
      "source": [
        "# 7. Reverse an array arr = [1, 2, 0, 0, 4, 0]\n",
        "arr = np.array([1, 2, 0, 0, 4, 0])\n",
        "reversed_arr = arr[::-1]\n",
        "print(reversed_arr)"
      ],
      "metadata": {
        "colab": {
          "base_uri": "https://localhost:8080/"
        },
        "id": "Ddm85OGRnegg",
        "outputId": "3818bd4b-4d9b-4e04-ab76-143d63b9599d"
      },
      "execution_count": 19,
      "outputs": [
        {
          "output_type": "stream",
          "name": "stdout",
          "text": [
            "[0 4 0 0 2 1]\n"
          ]
        }
      ]
    },
    {
      "cell_type": "code",
      "source": [
        "# 8. Create a 2d array with 1 on border and 0 inside\n",
        "array = np.ones((5, 5))\n",
        "array[1:-1, 1:-1] = 0\n",
        "print(array)\n"
      ],
      "metadata": {
        "colab": {
          "base_uri": "https://localhost:8080/"
        },
        "id": "njszbB3cnuP1",
        "outputId": "cb55101a-3f5d-4170-f213-fe97588c3df4"
      },
      "execution_count": 20,
      "outputs": [
        {
          "output_type": "stream",
          "name": "stdout",
          "text": [
            "[[1. 1. 1. 1. 1.]\n",
            " [1. 0. 0. 0. 1.]\n",
            " [1. 0. 0. 0. 1.]\n",
            " [1. 0. 0. 0. 1.]\n",
            " [1. 1. 1. 1. 1.]]\n"
          ]
        }
      ]
    },
    {
      "cell_type": "code",
      "source": [
        "# 9. Create an 8X8 matrix and fill it with a checkerboard pattern\n",
        "checkerboard = np.zeros((8, 8), dtype=int)\n",
        "checkerboard[1::2, ::2] = 1\n",
        "checkerboard[::2, 1::2] = 1\n",
        "print(\"Checkerboard pattern:\")\n",
        "print(checkerboard)"
      ],
      "metadata": {
        "colab": {
          "base_uri": "https://localhost:8080/"
        },
        "id": "1z-lfSHpoyBt",
        "outputId": "e96ac74f-cfc0-4ff1-c61e-2015a0dd0557"
      },
      "execution_count": 21,
      "outputs": [
        {
          "output_type": "stream",
          "name": "stdout",
          "text": [
            "Checkerboard pattern:\n",
            "[[0 1 0 1 0 1 0 1]\n",
            " [1 0 1 0 1 0 1 0]\n",
            " [0 1 0 1 0 1 0 1]\n",
            " [1 0 1 0 1 0 1 0]\n",
            " [0 1 0 1 0 1 0 1]\n",
            " [1 0 1 0 1 0 1 0]\n",
            " [0 1 0 1 0 1 0 1]\n",
            " [1 0 1 0 1 0 1 0]]\n"
          ]
        }
      ]
    },
    {
      "cell_type": "markdown",
      "source": [
        "Problem - 3: Array Operations:\n",
        "\n",
        "For the following arrays:\n",
        "x = np.array([[1,2],[3,5]]) and y = np.array([[5,6],[7,8]]);\n",
        "v = np.array([9,10]) and w = np.array([11,12]);\n",
        "Complete all the task using numpy:\n",
        "1. Add the two array.\n",
        "2. Subtract the two array.\n",
        "3. Multiply the array with any integers of your choice.\n",
        "4. Find the square of each element of the array.\n",
        "5. Find the dot product between: v(and)w ; x(and)v ; x(and)y.\n",
        "6. Concatenate x(and)y along row and Concatenate v(and)w along column.\n",
        "{Hint:try np.concatenate() or np.vstack() functions.\n",
        "7. Concatenate x(and)v; if you get an error, observe and explain why did you get the error?\n"
      ],
      "metadata": {
        "id": "_YCRpP24qCet"
      }
    },
    {
      "cell_type": "code",
      "source": [
        "x = np.array([[1, 2], [3, 5]])\n",
        "y = np.array([[5, 6], [7, 8]])\n",
        "v = np.array([9, 10])\n",
        "w = np.array([11, 12])\n",
        "\n",
        "#Add the two array.\n",
        "add_result = x + y\n",
        "print(\"Addition of x and y:\")\n",
        "print(add_result)\n",
        "\n",
        "# 2. Subtract the two arrays\n",
        "subtract_result = x - y\n",
        "print(\"\\nSubtraction of x and y:\")\n",
        "print(subtract_result)\n",
        "\n",
        "# 3. Multiply the array with any integers of your choice (e.g., multiply x by 2)\n",
        "multiply_result = x * 2\n",
        "print(\"\\nMultiplication of x by 2:\")\n",
        "print(multiply_result)\n",
        "\n",
        "# 4. Find the square of each element of the array\n",
        "square_res = np.square(x)\n",
        "print(\"\\nSquare of each element in x:\")\n",
        "print(square_res)\n",
        "\n",
        "# 5. Find the dot product between v and w:\n",
        "dot_vw = np.dot(v,w)\n",
        "print(\"\\nDot product of v and w:\")\n",
        "print(dot_vw)\n",
        "\n",
        "dot_xv = np.dot(x,v)\n",
        "print(\"\\nDot product of x and v:\")\n",
        "print(dot_xv)\n",
        "\n",
        "dot_xy = np.dot(x,y)\n",
        "print(\"\\nDot product of x and y:\")\n",
        "print(dot_xy)\n",
        "\n",
        "# Concatenate x(and)y along row and Concatenate v(and)w along column.\n",
        "conc_xy = np.concatenate((x,y), axis=0)\n",
        "print(\"\\nConcatenation of x and y along rows:\")\n",
        "print(conc_xy)\n",
        "\n",
        "conc_vw = np.concatenate((v.reshape(-1,1),w.reshape(-1,1)), axis=1)\n",
        "print(\"\\nConcatenation of v and w along column:\")\n",
        "print(conc_vw)\n",
        "\n",
        "# 7. Concatenate x and v; if you get an error, observe and explain why you got the error?\n",
        "try:\n",
        "  concat_xv = np.concatenate((x,v), axis=0)\n",
        "  print(\"\\n COncatenate x and v along row: \")\n",
        "  print(concat_xv)\n",
        "except ValueError as e:\n",
        "  print(f\"Error: {e}\")"
      ],
      "metadata": {
        "colab": {
          "base_uri": "https://localhost:8080/"
        },
        "id": "7dM_Kh-LqCzu",
        "outputId": "fcfeb693-c675-4aca-b03f-35ab3b062cdc"
      },
      "execution_count": 27,
      "outputs": [
        {
          "output_type": "stream",
          "name": "stdout",
          "text": [
            "Addition of x and y:\n",
            "[[ 6  8]\n",
            " [10 13]]\n",
            "\n",
            "Subtraction of x and y:\n",
            "[[-4 -4]\n",
            " [-4 -3]]\n",
            "\n",
            "Multiplication of x by 2:\n",
            "[[ 2  4]\n",
            " [ 6 10]]\n",
            "\n",
            "Square of each element in x:\n",
            "[[ 1  4]\n",
            " [ 9 25]]\n",
            "\n",
            "Dot product of v and w:\n",
            "219\n",
            "\n",
            "Dot product of x and v:\n",
            "[29 77]\n",
            "\n",
            "Dot product of x and y:\n",
            "[[19 22]\n",
            " [50 58]]\n",
            "\n",
            "Concatenation of x and y along rows:\n",
            "[[1 2]\n",
            " [3 5]\n",
            " [5 6]\n",
            " [7 8]]\n",
            "\n",
            "Concatenation of v and w along column:\n",
            "[[ 9 11]\n",
            " [10 12]]\n",
            "Error: all the input arrays must have same number of dimensions, but the array at index 0 has 2 dimension(s) and the array at index 1 has 1 dimension(s)\n"
          ]
        }
      ]
    },
    {
      "cell_type": "markdown",
      "source": [
        "Problem - 4: Matrix Operations:\n",
        "\n",
        "• For the following arrays:\n",
        "A = np.array([[3,4],[7,8]]) and B = np.array([[5,3],[2,1]]);\n",
        "Prove following with Numpy:\n",
        "1. Prove A.A−1 = I.\n",
        "2. Prove AB ̸= BA.\n",
        "3. Prove (AB)T = BTAT.\n",
        "• Solve the following system of Linear equation using Inverse Methods.\n",
        "2x − 3y + z = −1\n",
        "x − y + 2z = −3\n",
        "3x + y − z = 9\n",
        "{Hint: First use Numpy array to represent the equation in Matrix form. Then Solve for: AX = B}\n",
        "• Now: solve the above equation using np.linalg.inv function.{Explore more about ”linalg” func tion of Numpy}\n"
      ],
      "metadata": {
        "id": "QBsqtTZ8ui1t"
      }
    },
    {
      "cell_type": "code",
      "source": [
        "A = np.array([[3, 4], [7, 8]])\n",
        "B = np.array([[5, 3], [2, 1]])\n",
        "\n",
        "# 1. Prove A.A−1 = I\n",
        "A_inv = np.linalg.inv(A)\n",
        "I = np.dot(A, A_inv)\n",
        "print(\"I:\")\n",
        "print(I)\n",
        "\n",
        "# 2. Prove AB != BA\n",
        "AB = np.dot(A, B)\n",
        "BA = np.dot(B, A)\n",
        "print(\"\\nAB:\")\n",
        "print(AB)\n",
        "print(\"\\nBA:\")\n",
        "print(BA)\n",
        "\n",
        "# 3. Prove (AB)^T = B^T * A^T\n",
        "AB_transpose = np.dot(A, B).T\n",
        "B_transpose = B.T\n",
        "A_transpose = A.T\n",
        "B_transpose_A_transpose = np.dot(B_transpose, A_transpose)\n",
        "print(\"\\n(AB)^T:\")\n",
        "print(AB_transpose)\n",
        "print(\"\\nB^T * A^T: \")\n",
        "print(B_transpose_A_transpose)\n",
        "\n",
        "\n",
        "# Solving the system of linear equations using Inverse Method\n",
        "# Given system of equations:\n",
        "# 2x - 3y + z = -1\n",
        "# x - y + 2z = -3\n",
        "# 3x + y - z = 9\n",
        "\n",
        "# Represent the system in matrix form: AX = B\n",
        "A_eq = np.array([[2,-3,1], [1,-1,2], [3,1,-1]])\n",
        "B_eq = np.array([-1,-3,9])\n",
        "\n",
        "#A (A^-1)\n",
        "X = np.dot(np.linalg.inv(A_eq), B_eq)\n",
        "print(\"\\nSolution for x, y,z: \")\n",
        "print(X)\n",
        "\n"
      ],
      "metadata": {
        "colab": {
          "base_uri": "https://localhost:8080/"
        },
        "id": "FZeCCG4Xu7Xh",
        "outputId": "2bd0b780-5dff-4fbe-d3a2-92d0d4981349"
      },
      "execution_count": 35,
      "outputs": [
        {
          "output_type": "stream",
          "name": "stdout",
          "text": [
            "I:\n",
            "[[1.00000000e+00 0.00000000e+00]\n",
            " [1.77635684e-15 1.00000000e+00]]\n",
            "\n",
            "AB:\n",
            "[[23 13]\n",
            " [51 29]]\n",
            "\n",
            "BA:\n",
            "[[36 44]\n",
            " [13 16]]\n",
            "\n",
            "(AB)^T:\n",
            "[[23 51]\n",
            " [13 29]]\n",
            "\n",
            "B^T * A^T: \n",
            "[[23 51]\n",
            " [13 29]]\n",
            "\n",
            "Solution for x, y,z: \n",
            "[ 2.  1. -2.]\n"
          ]
        }
      ]
    },
    {
      "cell_type": "markdown",
      "source": [
        "1. Element-wise Addition:\n",
        "\n",
        "• Using Python Lists, perform element-wise addition of two lists of size 1, 000, 000. Measure and Print the time taken for this operation.\n",
        "• Using Numpy Arrays, Repeat the calculation and measure and print the time taken for this operation.\n"
      ],
      "metadata": {
        "id": "Wz9HA_kDxaU-"
      }
    },
    {
      "cell_type": "code",
      "source": [
        "import time\n",
        "\n",
        "list1 = [i for i in range(1,1000001)]\n",
        "list2 = [i for i in range(1000001,2000001)]\n",
        "\n",
        "\"\"\"Measurring the time for element wisw addition\"\"\"\n",
        "start_time = time.time()\n",
        "result_time = [a+b for a,b in zip(list1, list2)]\n",
        "end_time = time.time()\n",
        "list_time = end_time - start_time\n",
        "print(f\"Time taken for element-wise addition: {list_time} seconds\")\n",
        "\n",
        "\n",
        "#COnvert list ot numpy array\n",
        "array1 = np.array(list1)\n",
        "array2 = np.array(list2)\n",
        "\n",
        "# measuring time for element-wisw addition using numpy arrays\n",
        "start_time = time.time()\n",
        "result_array = array1 + array2\n",
        "end_time = time.time()\n",
        "array_time = end_time - start_time\n",
        "print(f\"Time taken for element-wise addition using numpy arrays: {array_time} seconds\")\n"
      ],
      "metadata": {
        "colab": {
          "base_uri": "https://localhost:8080/"
        },
        "id": "YvUXtoHgxd7E",
        "outputId": "d5582b91-11a2-4090-cb64-32d977690aa1"
      },
      "execution_count": 39,
      "outputs": [
        {
          "output_type": "stream",
          "name": "stdout",
          "text": [
            "Time taken for element-wise addition: 0.2426915168762207 seconds\n",
            "Time taken for element-wise addition using numpy arrays: 0.0026454925537109375 seconds\n"
          ]
        }
      ]
    },
    {
      "cell_type": "markdown",
      "source": [
        "2. Element-wise Multiplication\n",
        "\n",
        "• Using Python Lists, perform element-wise multiplication of two lists of size 1, 000, 000. Measure and Print the time taken for this operation.\n",
        "• Using Numpy Arrays, Repeat the calculation and measure and print the time taken for this operation.\n"
      ],
      "metadata": {
        "id": "_uuspFP3zFpG"
      }
    },
    {
      "cell_type": "code",
      "source": [
        "list1 = [i for i in range(1,1000001)]\n",
        "list2 = [i for i in range(1000001,2000001)]\n",
        "\n",
        "\"\"\"Measurring the time for element wise multiplication\"\"\"\n",
        "start_time = time.time()\n",
        "result_time = [a*b for a,b in zip(list1, list2)]\n",
        "end_time = time.time()\n",
        "list_time = end_time - start_time\n",
        "print(f\"Time taken for element-wise multiplication: {list_time} seconds\")\n",
        "\n",
        "\n",
        "array1 = np.array(list1)\n",
        "array2 = np.array(list2)\n",
        "\n",
        "start_time = time.time()\n",
        "result_array = array1 * array2\n",
        "end_time = time.time()\n",
        "array_time = end_time - start_time\n",
        "print(f\"Time taken for element-wise multiplication using numpy arrays: {array_time} seconds\")"
      ],
      "metadata": {
        "colab": {
          "base_uri": "https://localhost:8080/"
        },
        "id": "GRHGYpqjzHnt",
        "outputId": "cd876920-f001-4809-d564-e612374d7e97"
      },
      "execution_count": 40,
      "outputs": [
        {
          "output_type": "stream",
          "name": "stdout",
          "text": [
            "Time taken for element-wise multiplication: 0.06143617630004883 seconds\n",
            "Time taken for element-wise multiplication using numpy arrays: 0.005585908889770508 seconds\n"
          ]
        }
      ]
    },
    {
      "cell_type": "markdown",
      "source": [
        "3. Dot Product\n",
        "\n",
        "• Using Python Lists, compute the dot product of two lists of size 1, 000, 000. Measure and Print the time taken for this operation.\n",
        "• Using Numpy Arrays, Repeat the calculation and measure and print the time taken for this operation.\n",
        "\n"
      ],
      "metadata": {
        "id": "m6r1kEpzzo5_"
      }
    },
    {
      "cell_type": "code",
      "source": [
        "list1 = [i for i in range(1,1000001)]\n",
        "list2 = [i for i in range(1000001,2000001)]\n",
        "\n",
        "start_time = time.time()\n",
        "result_time = [a*b for a,b in zip(list1, list2)]\n",
        "end_time = time.time()\n",
        "list_time = end_time - start_time\n",
        "print(f\"Time taken for element-wise multiplication: {list_time} seconds\")\n",
        "\n",
        "array1 = np.array(list1)\n",
        "array2 = np.array(list2)\n",
        "\n",
        "start_time = time.time()\n",
        "dot_product_array = np.dot(array1, array2)\n",
        "end_time = time.time()\n",
        "array_time = end_time - start_time\n",
        "print(f\"Time taken for dot product using NumPy arrays: {array_time:.6f} seconds\")"
      ],
      "metadata": {
        "colab": {
          "base_uri": "https://localhost:8080/"
        },
        "id": "P5kXQECyzwn_",
        "outputId": "7b1afde0-b567-409b-d57d-bca44454a5b5"
      },
      "execution_count": 41,
      "outputs": [
        {
          "output_type": "stream",
          "name": "stdout",
          "text": [
            "Time taken for element-wise multiplication: 0.08801126480102539 seconds\n",
            "Time taken for dot product using NumPy arrays: 0.001853 seconds\n"
          ]
        }
      ]
    },
    {
      "cell_type": "markdown",
      "source": [
        "4. Matrix Multiplication\n",
        "\n",
        "• Using Python lists, perform matrix multiplication of two matrices of size 1000x1000. Mea sure and print the time taken for this operation.\n",
        "• Using NumPy arrays, perform matrix multiplication of two matrices of size 1000x1000. Measure and print the time taken for this operation.\n"
      ],
      "metadata": {
        "id": "cFsleSLp0FqD"
      }
    },
    {
      "cell_type": "code",
      "source": [
        "# size of matrix\n",
        "N=1000\n",
        "\n",
        "matrix1 = [[i + j for j in range(N)] for i in range(N)]\n",
        "matrix2 = [[i - j for j in range(N)] for i in range(N)]\n",
        "\n",
        "def matrix_multiply(A,B):\n",
        "  result = [[0] *N for _ in range(N)]\n",
        "  for i in range(N):\n",
        "    for j in range(N):\n",
        "      for k in range(N):\n",
        "        result[i][j] += A[i][k] * B[k][j]\n",
        "  return result\n",
        "start_time = time.time()\n",
        "result = matrix_multiply(matrix1, matrix2)\n",
        "end_time = time.time()\n",
        "execute_time = end_time - start_time\n",
        "print(f\"Time taken for matrix multiplication: {execute_time} seconds\")\n",
        "\n",
        "array1 = np.array(matrix1)\n",
        "array2 = np.array(matrix2)\n",
        "\n",
        "start_time = time.time()\n",
        "result_numpy = np.dot(array1, array2)\n",
        "end_time = time.time()\n",
        "numpy_time = end_time - start_time\n",
        "print(f\"Time taken for matrix multiplication using NumPy: {numpy_time:.6f} seconds\")"
      ],
      "metadata": {
        "colab": {
          "base_uri": "https://localhost:8080/"
        },
        "id": "nbfgtx5_0IXE",
        "outputId": "3eebd7ee-4469-482d-c50e-6bfc85023600"
      },
      "execution_count": 48,
      "outputs": [
        {
          "output_type": "stream",
          "name": "stdout",
          "text": [
            "Time taken for matrix multiplication: 182.4498074054718 seconds\n",
            "Time taken for matrix multiplication using NumPy: 1.242108 seconds\n"
          ]
        }
      ]
    }
  ]
}